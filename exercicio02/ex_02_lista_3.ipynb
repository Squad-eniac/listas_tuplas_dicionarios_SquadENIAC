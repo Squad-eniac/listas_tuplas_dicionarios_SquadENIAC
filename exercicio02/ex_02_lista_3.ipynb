{
 "cells": [
  {
   "cell_type": "markdown",
   "metadata": {},
   "source": [
    "2. Faça um Programa que peça as quatro notas de 5 alunos, calcule e armazene numa lista a média de cada aluno, imprima o número de alunos com média maior ou igual a 7.0."
   ]
  },
  {
   "cell_type": "code",
   "execution_count": 1,
   "metadata": {},
   "outputs": [
    {
     "name": "stdout",
     "output_type": "stream",
     "text": [
      "Número de alunos com média maior ou igual a 7.0: 5\n"
     ]
    }
   ],
   "source": [
    "medias = [] # Lista para armazenar as médias\n",
    "\n",
    "# Solicita as notas de cada aluno\n",
    "for i in range(5):\n",
    "    i+1\n",
    "    notas = []\n",
    "    for j in range(4):\n",
    "        nota = float(input(f\"Informe a nota {j+1}: \"))\n",
    "        notas.append(nota)\n",
    "    # Calcula a média do aluno e adiciona à lista de médias\n",
    "    media = sum(notas) / len(notas)\n",
    "    medias.append(media)\n",
    "\n",
    "# Conta quantos alunos têm média maior ou igual a 7.0\n",
    "alunos_aprovados = sum(1 for media in medias if media >= 7.0)\n",
    "\n",
    "print(f\"Número de alunos com média maior ou igual a 7.0: {alunos_aprovados}\")"
   ]
  }
 ],
 "metadata": {
  "kernelspec": {
   "display_name": "Python 3",
   "language": "python",
   "name": "python3"
  },
  "language_info": {
   "codemirror_mode": {
    "name": "ipython",
    "version": 3
   },
   "file_extension": ".py",
   "mimetype": "text/x-python",
   "name": "python",
   "nbconvert_exporter": "python",
   "pygments_lexer": "ipython3",
   "version": "3.12.1"
  }
 },
 "nbformat": 4,
 "nbformat_minor": 2
}
